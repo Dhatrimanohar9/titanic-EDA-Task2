{
 "cells": [
  {
   "cell_type": "markdown",
   "id": "7f68e63a",
   "metadata": {},
   "source": [
    "# Titanic Dataset - Exploratory Data Analysis (EDA)"
   ]
  },
  {
   "cell_type": "markdown",
   "id": "8eefb260",
   "metadata": {},
   "source": [
    "\n",
    "This notebook performs an Exploratory Data Analysis (EDA) on the Titanic Dataset.\n",
    "We explore the data using summary statistics and visualizations to understand key patterns and trends.\n",
    "\n",
    "## Objectives:\n",
    "- Generate summary statistics\n",
    "- Visualize distributions and relationships\n",
    "- Identify patterns and insights\n"
   ]
  },
  {
   "cell_type": "code",
   "execution_count": null,
   "id": "58425208",
   "metadata": {},
   "outputs": [],
   "source": [
    "\n",
    "import pandas as pd\n",
    "import seaborn as sns\n",
    "import matplotlib.pyplot as plt\n",
    "\n",
    "# Display plots inline\n",
    "%matplotlib inline\n"
   ]
  },
  {
   "cell_type": "code",
   "execution_count": null,
   "id": "382da102",
   "metadata": {},
   "outputs": [],
   "source": [
    "\n",
    "# Load the dataset\n",
    "df = pd.read_csv('Titanic-Dataset.csv')\n",
    "\n",
    "# Preview the data\n",
    "df.head()\n"
   ]
  },
  {
   "cell_type": "code",
   "execution_count": null,
   "id": "a5370da6",
   "metadata": {},
   "outputs": [],
   "source": [
    "\n",
    "# Check data info\n",
    "df.info()\n"
   ]
  },
  {
   "cell_type": "code",
   "execution_count": null,
   "id": "068d7f0c",
   "metadata": {},
   "outputs": [],
   "source": [
    "\n",
    "# Summary statistics of numerical features\n",
    "df.describe()\n"
   ]
  },
  {
   "cell_type": "code",
   "execution_count": null,
   "id": "1a9abb76",
   "metadata": {},
   "outputs": [],
   "source": [
    "\n",
    "# Check for null values\n",
    "df.isnull().sum()\n"
   ]
  },
  {
   "cell_type": "code",
   "execution_count": null,
   "id": "1d243bfa",
   "metadata": {},
   "outputs": [],
   "source": [
    "\n",
    "# Histograms of numerical features\n",
    "df.select_dtypes(include=['float64', 'int64']).hist(figsize=(12, 10))\n",
    "plt.suptitle(\"Histograms of Numerical Features\")\n",
    "plt.tight_layout()\n",
    "plt.show()\n"
   ]
  },
  {
   "cell_type": "code",
   "execution_count": null,
   "id": "00555bf5",
   "metadata": {},
   "outputs": [],
   "source": [
    "\n",
    "# Boxplots to detect outliers\n",
    "for col in ['Age', 'Fare']:\n",
    "    plt.figure(figsize=(6, 4))\n",
    "    sns.boxplot(x=df[col])\n",
    "    plt.title(f'Boxplot of {col}')\n",
    "    plt.show()\n"
   ]
  },
  {
   "cell_type": "code",
   "execution_count": null,
   "id": "c485f633",
   "metadata": {},
   "outputs": [],
   "source": [
    "\n",
    "# Correlation Heatmap\n",
    "plt.figure(figsize=(10, 6))\n",
    "sns.heatmap(df.corr(), annot=True, cmap='coolwarm')\n",
    "plt.title(\"Correlation Heatmap\")\n",
    "plt.show()\n"
   ]
  },
  {
   "cell_type": "code",
   "execution_count": null,
   "id": "ff4a043a",
   "metadata": {},
   "outputs": [],
   "source": [
    "\n",
    "# Survival count\n",
    "sns.countplot(x='Survived', data=df)\n",
    "plt.title('Survival Count')\n",
    "plt.show()\n"
   ]
  },
  {
   "cell_type": "code",
   "execution_count": null,
   "id": "bb8d0012",
   "metadata": {},
   "outputs": [],
   "source": [
    "\n",
    "# Survival by Passenger Class\n",
    "sns.countplot(x='Pclass', hue='Survived', data=df)\n",
    "plt.title('Survival by Passenger Class')\n",
    "plt.show()\n",
    "\n",
    "# Survival by Gender\n",
    "sns.countplot(x='Sex', hue='Survived', data=df)\n",
    "plt.title('Survival by Gender')\n",
    "plt.show()\n"
   ]
  },
  {
   "cell_type": "markdown",
   "id": "432f6498",
   "metadata": {},
   "source": [
    "\n",
    "## Key Insights:\n",
    "- Most 3rd class passengers did not survive.\n",
    "- Females had a higher survival rate than males.\n",
    "- Fare and Pclass show a strong correlation with survival.\n",
    "- Age has outliers and missing values.\n",
    "- Overall, visualization reveals key trends helpful for feature engineering.\n"
   ]
  }
 ],
 "metadata": {},
 "nbformat": 4,
 "nbformat_minor": 5
}